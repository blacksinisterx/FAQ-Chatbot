{
 "cells": [
  {
   "cell_type": "markdown",
   "metadata": {},
   "source": [
    "## Chatbot for FAQs\n",
    "#### Create a chatbot that can answer frequently asked questions (FAQs) about a particular topic or product. Use natural language processing (NLP) techniques and pre-built libraries like NLTK and Spacy to understand and generate responses."
   ]
  },
  {
   "cell_type": "code",
   "execution_count": 1,
   "metadata": {},
   "outputs": [],
   "source": [
    "import pandas as pd\n",
    "import numpy as np\n",
    "import sklearn as sk\n",
    "import nltk \n",
    "from nltk.corpus import stopwords\n",
    "from nltk.tokenize import word_tokenize, sent_tokenize\n",
    "from nltk.stem import WordNetLemmatizer\n",
    "from nltk.stem import PorterStemmer \n",
    "from sklearn.feature_extraction.text import TfidfVectorizer\n",
    "from sklearn.metrics.pairwise import cosine_similarity\n",
    "import spacy\n",
    "import tkinter as tk\n",
    "from tkinter import scrolledtext"
   ]
  },
  {
   "cell_type": "markdown",
   "metadata": {},
   "source": [
    "### Make dataset"
   ]
  },
  {
   "cell_type": "code",
   "execution_count": 2,
   "metadata": {},
   "outputs": [],
   "source": [
    "faq = {\n",
    "    \"What are your store hours?\":  \"Our store is open from 10 AM to 8 PM from Monday to Saturday, and from 11 AM to 6 PM on Sundays.\",\n",
    "    \"Are there any ongoing discounts?\": \"You can check our website or visit the store for information on ongoing promotions and discounts.\",\n",
    "    \"Can I cancel my order?\": \"Yes, you can cancel your order within 24 hours of placing it.\",\n",
    "    \"How do I reset my account password?\": \"To reset your password, go to the login page and click on 'Forgot Password'. Follow the instructions sent to your email.\",\n",
    "    \"Do you have customer support?\": \"Yes, our customer support is available 24/7. You can reach us via phone, email, or live chat.\",\n",
    "    \"What brands do you carry?\": \"We carry a variety of brands including Apple, Samsung, OnePlus, and more.\",\n",
    "    \"Can I buy a phone on installment?\": \"Yes, we offer installment plans for purchases. Visit our store or website for more details.\",\n",
    "    \"Where are you located?\": \"We are located at 123 Mobile Street, Tech City.\",\n",
    "    \"Do you offer gift cards?\": \"Yes, we offer gift cards in various denominations.\",\n",
    "    \"What is your phone number?\": \"You can reach us at (123) 456-7890.\",\n",
    "    \"Do you provide technical support?\": \"Yes, we provide technical support for all devices purchased from our store.\",\n",
    "    \"What is the process for warranty claims?\": \"For warranty claims, please bring the product and proof of purchase to our store or contact customer support.\",\n",
    "    \"Can I reserve a product online?\": \"Yes, you can reserve a product online and pick it up at the store.\",\n",
    "    \"What types of phones do you repair?\": \"We repair a variety of phones, including both smartphones and feature phones.\",\n",
    "    \"Do you offer data recovery services?\": \"Yes, we offer data recovery services for damaged devices.\",\n",
    "    \"Can I upgrade my device through your store?\": \"Yes, you can upgrade your device through our store. Check our trade-in program for details.\",\n",
    "    \"Do you offer any special deals for students?\": \"Yes, we offer special discounts for students. Bring your student ID to avail the offers.\",\n",
    "    \"What is your store's contact email?\": \"You can reach us at contact@mobilestore.com.\",\n",
    "    \"Do you offer screen replacement services?\": \"Yes, we offer screen replacement services for most smartphone models.\",\n",
    "    \"How can I provide feedback about my experience?\": \"You can provide feedback through our website or by contacting customer support.\",\n",
    "    \"What are the accepted payment methods online?\": \"We accept credit/debit cards and digital wallets for online purchases.\",\n",
    "    \"Do you offer phone insurance?\": \"Yes, we offer phone insurance plans. Visit our store for more details.\",\n",
    "    \"What should I do if I receive a damaged product?\": \"If you receive a damaged product, contact our customer support immediately for assistance.\",\n",
    "    \"Can I check product availability online?\": \"Yes, you can check product availability on our website before visiting the store.\",\n",
    "     \"Do you offer home delivery?\": \"Yes, we offer home delivery for all our products. You can place an order online or call our store.\",\n",
    "    \"What is your return policy?\": \"You can return any product within 30 days of purchase, provided it is in original condition and packaging.\",\n",
    "    \"Do you have the latest iPhone model?\": \"Yes, we have the latest iPhone models in stock. You can visit our store or check online for availability.\",\n",
    "    \"What payment methods do you accept?\": \"We accept cash, credit/debit cards, and digital wallets like Apple Pay and Google Pay.\",\n",
    "    \"Can I track my order?\": \"Yes, you can track your order status through our website or by contacting customer support.\",\n",
    "    \"Do you offer repair services?\": \"Yes, we offer repair services for a variety of mobile devices. Please visit our store for more details.\",\n",
    "    \"What is the warranty on your products?\": \"All products come with a one-year warranty. Additional warranty options are available for purchase.\",\n",
    "    \"Do you sell accessories?\": \"Yes, we have a wide range of accessories including cases, chargers, and screen protectors.\",\n",
    "     \"Do you offer international shipping?\": \"Currently, we only ship within the country. International shipping will be available soon.\",\n",
    "    \"How do I register a complaint?\": \"You can register a complaint through our website or by contacting our customer support team.\",\n",
    "    \"Can I exchange my old phone?\": \"Yes, we offer exchange programs. Bring your old phone to the store for evaluation.\",\n",
    "    \"Do you provide data transfer services?\": \"Yes, we can assist with data transfer when you purchase a new device.\",\n",
    "    \"What is your email address?\": \"You can contact us at support@mobilestore.com.\",\n",
    "    \"Do you offer price matching?\": \"Yes, we offer price matching with certain conditions. Please visit our store for details.\",\n",
    "    \"What is your privacy policy?\": \"You can read our privacy policy on our website to understand how we handle your data.\",\n",
    "    \"Do you have a loyalty program?\": \"Yes, we have a loyalty program that offers rewards for frequent purchases.\",\n",
    "    \"Can I pre-order upcoming products?\": \"Yes, we accept pre-orders for upcoming products. Check our website for details.\",\n",
    "    \"Do you have any refurbished phones?\": \"Yes, we sell refurbished phones that come with a warranty and are tested for quality.\",\n",
    "    \"What is your exchange policy?\": \"Our exchange policy allows you to exchange products within 30 days of purchase.\",\n",
    "    \"Do you offer financing options?\": \"Yes, we offer financing options for your purchases. Visit our store for more information.\",\n",
    "    \"Can I get a discount on bulk purchases?\": \"Yes, we offer discounts on bulk purchases. Contact us for more details.\",\n",
    "    \"How can I contact your customer service?\": \"You can contact our customer service via phone, email, or live chat.\",\n",
    "    \"Do you provide a warranty for accessories?\": \"Yes, accessories come with a limited warranty. Check the product details for specific terms.\",\n",
    "    \"What is your shipping policy?\": \"Our shipping policy is detailed on our website. We offer standard and express shipping options.\",\n",
    "    \"Can I track my repair status?\": \"Yes, you can track the status of your repair online or by contacting our store.\"\n",
    "    \n",
    "}\n"
   ]
  },
  {
   "cell_type": "code",
   "execution_count": null,
   "metadata": {},
   "outputs": [],
   "source": []
  },
  {
   "cell_type": "markdown",
   "metadata": {},
   "source": [
    "### Preprocessing"
   ]
  },
  {
   "cell_type": "code",
   "execution_count": 3,
   "metadata": {},
   "outputs": [],
   "source": [
    "nlp = spacy.load(\"en_core_web_sm\")\n",
    "\n",
    "def preprocesstext (text):\n",
    "    doc = nlp(text)\n",
    "    doc = nlp(text.lower())\n",
    "    return ' '.join([token.lemma_ for token in doc if token.text not in stopwords.words('english') and not token.is_punct] )    \n",
    "\n",
    "    "
   ]
  },
  {
   "cell_type": "code",
   "execution_count": 4,
   "metadata": {},
   "outputs": [
    {
     "data": {
      "text/plain": [
       "['store hour',\n",
       " 'ongoing discount',\n",
       " 'cancel order',\n",
       " 'reset account password',\n",
       " 'customer support',\n",
       " 'brand carry',\n",
       " 'buy phone installment',\n",
       " 'locate',\n",
       " 'offer gift card',\n",
       " 'phone number',\n",
       " 'provide technical support',\n",
       " 'process warranty claim',\n",
       " 'reserve product online',\n",
       " 'type phone repair',\n",
       " 'offer data recovery service',\n",
       " 'upgrade device store',\n",
       " 'offer special deal student',\n",
       " \"store 's contact email\",\n",
       " 'offer screen replacement service',\n",
       " 'provide feedback experience',\n",
       " 'accept payment method online',\n",
       " 'offer phone insurance',\n",
       " 'receive damage product',\n",
       " 'check product availability online',\n",
       " 'offer home delivery',\n",
       " 'return policy',\n",
       " 'late iphone model',\n",
       " 'payment method accept',\n",
       " 'track order',\n",
       " 'offer repair service',\n",
       " 'warranty product',\n",
       " 'sell accessory',\n",
       " 'offer international shipping',\n",
       " 'register complaint',\n",
       " 'exchange old phone',\n",
       " 'provide data transfer service',\n",
       " 'email address',\n",
       " 'offer price matching',\n",
       " 'privacy policy',\n",
       " 'loyalty program',\n",
       " 'pre order upcoming product',\n",
       " 'refurbish phone',\n",
       " 'exchange policy',\n",
       " 'offer financing option',\n",
       " 'get discount bulk purchase',\n",
       " 'contact customer service',\n",
       " 'provide warranty accessory',\n",
       " 'shipping policy',\n",
       " 'track repair status']"
      ]
     },
     "execution_count": 4,
     "metadata": {},
     "output_type": "execute_result"
    }
   ],
   "source": [
    "preprocessquestion = [preprocesstext(question) for question in faq.keys()]\n",
    "preprocessquestion"
   ]
  },
  {
   "cell_type": "markdown",
   "metadata": {},
   "source": [
    "### Vectorization using TFIDF\n",
    "* This further processes the data to numerical representation allowing the model for easier understanding"
   ]
  },
  {
   "cell_type": "code",
   "execution_count": 5,
   "metadata": {},
   "outputs": [
    {
     "data": {
      "text/plain": [
       "<49x85 sparse matrix of type '<class 'numpy.float64'>'\n",
       "\twith 136 stored elements in Compressed Sparse Row format>"
      ]
     },
     "execution_count": 5,
     "metadata": {},
     "output_type": "execute_result"
    }
   ],
   "source": [
    "tfid = TfidfVectorizer()\n",
    "faq_tfid = tfid.fit_transform(preprocessquestion)\n",
    "faq_tfid"
   ]
  },
  {
   "cell_type": "markdown",
   "metadata": {},
   "source": [
    "### Matching Query "
   ]
  },
  {
   "cell_type": "code",
   "execution_count": 6,
   "metadata": {},
   "outputs": [],
   "source": [
    "def match (query):\n",
    "    userquery = tfid.transform([preprocesstext(query)])\n",
    "    similarityscore = cosine_similarity(userquery,faq_tfid)\n",
    "    bestmatchindex = similarityscore.argmax()\n",
    "    bestmatchscore = similarityscore[0][bestmatchindex]\n",
    "    if bestmatchscore < 0.1:  \n",
    "        return \"Kindly drop us an email regarding the issue.\"\n",
    "    bestmatchquestion = list(faq.keys())[bestmatchindex]\n",
    "    return faq[bestmatchquestion]\n",
    "    \n",
    "    \n"
   ]
  },
  {
   "cell_type": "markdown",
   "metadata": {},
   "source": [
    "### Bot Testing"
   ]
  },
  {
   "cell_type": "code",
   "execution_count": 7,
   "metadata": {},
   "outputs": [],
   "source": [
    "# def chatbot ():\n",
    "#     print(\"Welcome to Mobile Store. How can I help you today? Type exit to end conversation\")\n",
    "#     while True:\n",
    "#         userquery = input(\"You: \")\n",
    "#         if userquery.lower() == \"exit\":\n",
    "#             print(\"Bot: Goodbye! Have a nice day.\")\n",
    "#             break\n",
    "#         print(\"You: \" + userquery)\n",
    "#         response = match(userquery)\n",
    "#         print(f\"Bot: {response}\")\n",
    "# chatbot()          "
   ]
  },
  {
   "cell_type": "markdown",
   "metadata": {},
   "source": [
    "### Using GUI"
   ]
  },
  {
   "cell_type": "code",
   "execution_count": 8,
   "metadata": {},
   "outputs": [],
   "source": [
    "class ChatbotApp:\n",
    "    def __init__(self, root):\n",
    "        self.root = root\n",
    "        self.root.title = \"Mobile Store Chatbot\"\n",
    "        \n",
    "        self.chatwindow = scrolledtext.ScrolledText(root, wrap=tk.WORD)\n",
    "        self.chatwindow.pack(padx=10, pady=10)\n",
    "        self.chatwindow.insert(tk.END, \"Welcome to Mobile Store. How can I help you today? \\n\", \"bot\")\n",
    "        self.chatwindow.config(state=tk.DISABLED)\n",
    "        \n",
    "        self.userinput = tk.Entry(root, width=100)\n",
    "        self.userinput.pack(padx=10, pady=10)\n",
    "        self.userinput.bind(\"<Return>\",self.get_response)\n",
    "        \n",
    "        self.chatwindow.tag_config(\"user\", foreground=\"green\")\n",
    "        self.chatwindow.tag_config(\"bot\", foreground=\"blue\")\n",
    "        \n",
    "        self.exitbutton = tk.Button(root, text=\"Exit\", command=self.exit_chat)\n",
    "        self.exitbutton.pack(pady=10)\n",
    "\n",
    "    def get_response(self, event):\n",
    "        userquery = self.userinput.get()\n",
    "        if userquery.strip():\n",
    "            response = match(userquery)\n",
    "            self.chatwindow.config(state=tk.NORMAL)\n",
    "            self.chatwindow.insert(tk.END, f\"You: {userquery}\\n\", \"user\")\n",
    "            self.chatwindow.insert(tk.END, f\"Chatbot: {response}\\n\", \"bot\")\n",
    "            self.chatwindow.config(state=tk.DISABLED)\n",
    "            self.userinput.delete(0, tk.END)\n",
    "        \n",
    "    def exit_chat(self):\n",
    "        self.chatwindow.config(state=tk.NORMAL)\n",
    "        self.chatwindow.insert(tk.END, \"Chatbot: Goodbye!\\n\", \"bot\")\n",
    "        self.chatwindow.config(state=tk.DISABLED)\n",
    "        self.root.update()\n",
    "        self.root.after(10000, self.root.destroy)\n",
    "        \n",
    "if __name__ == \"__main__\":\n",
    "    root = tk.Tk()\n",
    "    app = ChatbotApp(root)\n",
    "    root.mainloop()"
   ]
  },
  {
   "cell_type": "code",
   "execution_count": null,
   "metadata": {},
   "outputs": [],
   "source": []
  },
  {
   "cell_type": "code",
   "execution_count": null,
   "metadata": {},
   "outputs": [],
   "source": []
  }
 ],
 "metadata": {
  "kernelspec": {
   "display_name": "base",
   "language": "python",
   "name": "python3"
  },
  "language_info": {
   "codemirror_mode": {
    "name": "ipython",
    "version": 3
   },
   "file_extension": ".py",
   "mimetype": "text/x-python",
   "name": "python",
   "nbconvert_exporter": "python",
   "pygments_lexer": "ipython3",
   "version": "3.11.5"
  }
 },
 "nbformat": 4,
 "nbformat_minor": 2
}
